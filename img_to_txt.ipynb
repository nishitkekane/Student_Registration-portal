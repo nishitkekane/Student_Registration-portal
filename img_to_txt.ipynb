{
 "cells": [
  {
   "cell_type": "code",
   "execution_count": 2,
   "metadata": {},
   "outputs": [],
   "source": [
    "import json\n",
    "import pytesseract\n",
    "import cv2\n",
    "import numpy as np\n",
    "import sys\n",
    "import re\n",
    "import os\n",
    "from PIL import Image\n",
    "import ftfy\n",
    "import aadhaar_card\n",
    "import io"
   ]
  },
  {
   "cell_type": "code",
   "execution_count": 3,
   "metadata": {},
   "outputs": [
    {
     "name": "stdout",
     "output_type": "stream",
     "text": [
      "Image is Too Blurry....\n"
     ]
    }
   ],
   "source": [
    "# Image extraction\n",
    "img = cv2.imread(\"img_1.jpeg\")\n",
    "img = cv2.resize(img, None, fx=2, fy=2,interpolation=cv2.INTER_CUBIC)\n",
    "img = cv2.cvtColor(img, cv2.COLOR_BGR2GRAY)\n",
    "var = cv2.Laplacian(img, cv2.CV_64F).var()\n",
    "if var < 50:\n",
    "    print(\"Image is Too Blurry....\")\n",
    "    k= input('Press Enter to Exit.')\n",
    "    exit(1)"
   ]
  },
  {
   "cell_type": "code",
   "execution_count": 5,
   "metadata": {},
   "outputs": [
    {
     "name": "stdout",
     "output_type": "stream",
     "text": [
      "Rohan Jayprakash Parab\n",
      "\n",
      "Ste: WITH ITE\n",
      "Father : Jayprakash Parab\n",
      "| oH au / Year of Birth : 2004\n",
      "\n",
      "| Jeu / Male\n",
      "\n",
      "6440 9665 9609\n",
      "\n",
      " \n",
      "\f\n"
     ]
    }
   ],
   "source": [
    "# Text extraction using Tesseract\n",
    "# fixing text \n",
    "filename = \"img_1.jpeg\"\n",
    "text = pytesseract.image_to_string(Image.open(filename), lang = 'eng')\n",
    "\n",
    "text_output = open('output.txt', 'w', encoding='utf-8')\n",
    "text_output.write(text)\n",
    "text_output.close()\n",
    "\n",
    "file = open('output.txt', 'r', encoding='utf-8')\n",
    "text = file.read()\n",
    "\n",
    "text = ftfy.fix_text(text)\n",
    "text = ftfy.fix_encoding(text)\n",
    "print(text)"
   ]
  },
  {
   "cell_type": "code",
   "execution_count": 6,
   "metadata": {},
   "outputs": [
    {
     "name": "stdout",
     "output_type": "stream",
     "text": [
      "Aadhar number is :2004 6440 9665 9609 \n"
     ]
    }
   ],
   "source": [
    "data = aadhaar_card.adhaar_read_data(text)"
   ]
  },
  {
   "cell_type": "code",
   "execution_count": 7,
   "metadata": {},
   "outputs": [],
   "source": [
    "# Writing output to json\n",
    "try:\n",
    "    to_unicode = unicode\n",
    "except NameError:\n",
    "    to_unicode = str\n",
    "with io.open('info.json', 'w', encoding='utf-8') as outfile:\n",
    "    data = json.dumps(data, indent=4, sort_keys=True, separators=(',', ': '), ensure_ascii=False)\n",
    "    outfile.write(to_unicode(data))"
   ]
  },
  {
   "cell_type": "code",
   "execution_count": 8,
   "metadata": {},
   "outputs": [
    {
     "name": "stdout",
     "output_type": "stream",
     "text": [
      "{'Adhaar Number': '2004 6440 9665 9609 ', 'Date of Birth': 'W/TH/TE', 'ID Type': 'Adhaar', 'Name': 'Rohan Jayprakash Parab', 'Sex': 'MALE'}\n"
     ]
    }
   ],
   "source": [
    "# reading json data\n",
    "with open('info.json', encoding = 'utf-8') as data:\n",
    "    data_loaded = json.load(data)\n",
    "print(data_loaded)"
   ]
  }
 ],
 "metadata": {
  "kernelspec": {
   "display_name": "Python 3",
   "language": "python",
   "name": "python3"
  },
  "language_info": {
   "codemirror_mode": {
    "name": "ipython",
    "version": 3
   },
   "file_extension": ".py",
   "mimetype": "text/x-python",
   "name": "python",
   "nbconvert_exporter": "python",
   "pygments_lexer": "ipython3",
   "version": "3.10.12"
  }
 },
 "nbformat": 4,
 "nbformat_minor": 2
}
